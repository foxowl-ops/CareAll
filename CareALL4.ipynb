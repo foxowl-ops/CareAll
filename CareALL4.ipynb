{
 "cells": [
  {
   "cell_type": "code",
   "execution_count": 91,
   "metadata": {},
   "outputs": [],
   "source": [
    "class CareALL:\n",
    "    def __init__(self,name,age,gender):\n",
    "        self.name = name\n",
    "        self.age = age\n",
    "        self.gender =  gender\n",
    "        self.status = True\n",
    "    def get_status(self):\n",
    "        return self.status\n",
    "    def set_status(self,new_status):\n",
    "        self.status = status #True or False\n",
    "    def set_rating(self,new_rating):\n",
    "        self.rating = new_rating #0-5\n",
    "    def get_rating(self):\n",
    "        return self.rating\n",
    "    def set_review(self,new_review):\n",
    "        self.review = new_review #text\n",
    "    def get_review(self):\n",
    "        return self.review"
   ]
  },
  {
   "cell_type": "code",
   "execution_count": 92,
   "metadata": {},
   "outputs": [],
   "source": [
    "class Young(CareALL):\n",
    "    young_list = []\n",
    "    @classmethod\n",
    "    def add_young_per(cls,obj):\n",
    "        cls.young_list.append(obj)\n",
    "    def __init__(self,name,age,gender):\n",
    "        super().__init__(name,age,gender)\n",
    "        self.care_list_confirmed = []\n",
    "        self.care_list_chosen = []\n",
    "        self.caring_num = 0\n",
    "        Young.add_young_per(self)\n",
    "    def add_old(self,name):\n",
    "        if len(self.care_list_confirmed) < 4:\n",
    "            self.care_list_confirmed.append(name)\n",
    "            return True\n",
    "        else:\n",
    "            return False\n",
    "    def get_care_list(self):\n",
    "        for old in self.care_list_confirmed:\n",
    "            print (old.name)\n",
    "    def income(self):\n",
    "        total = 0\n",
    "        for a in self.care_list_confirmed:\n",
    "            total += a.get_funds()\n",
    "        return total\n",
    "    def number(self):\n",
    "        return len(self.care_list_chosen)\n",
    "    def select(self,care_list_confirmed):\n",
    "        for people in care_list_confirmed:\n",
    "            if people.status:\n",
    "                print(\"would you like to take care of {} named {} aged {}\".format(people.gender,people.name, people.age))\n",
    "                i = input(\"Enter your response YES or NO\")                \n",
    "                if i == 'YES':\n",
    "                    self.care_list_chosen.append(people)\n",
    "                elif i == 'NO':\n",
    "                    pass\n",
    "                else:\n",
    "                    print(\"enter either YES or NO\")\n",
    "                    return self.select(care_list_confirmed)\n"
   ]
  },
  {
   "cell_type": "code",
   "execution_count": 93,
   "metadata": {},
   "outputs": [],
   "source": [
    "class Old(CareALL):\n",
    "    old_list = []\n",
    "    @classmethod\n",
    "    def add_old_per(cls,obj):\n",
    "        cls.old_list.append(obj)\n",
    "    def __init__(self,name,age,gender):\n",
    "        super().__init__(name,age,gender)\n",
    "        Old.add_old_per(self)\n",
    "    def set_funds(self,price):\n",
    "        self.price = price\n",
    "    def get_funds(self):\n",
    "        return self.price\n",
    "    def accept(self,young):\n",
    "            if self.status:\n",
    "                    print(\"would you like to be taken care by {} named{} aged {}\".format(young.gender,young.name,young.age))\n",
    "                    u = input(\"enter YES or NO\")\n",
    "                    if u == 'YES':\n",
    "                        self.set_status = False\n",
    "                        return True\n",
    "                    elif u == 'NO':\n",
    "                        pass\n",
    "                    else:\n",
    "                        print('enter only YES or NO')\n",
    "                        return self.accept(young_list)\n",
    "    def getting_cared_by(self):\n",
    "        return the_log.get(self.name,-1)"
   ]
  },
  {
   "cell_type": "code",
   "execution_count": 94,
   "metadata": {
    "scrolled": true
   },
   "outputs": [
    {
     "name": "stdout",
     "output_type": "stream",
     "text": [
      "would you like to take care of Male named Rohit aged 65\n",
      "Enter your response YES or NOYES\n",
      "would you like to take care of Male named Akshit aged 75\n",
      "Enter your response YES or NOYES\n",
      "would you like to take care of Male named Akash aged 69\n",
      "Enter your response YES or NOYES\n",
      "would you like to take care of Female named Sumita aged 77\n",
      "Enter your response YES or NOYES\n",
      "would you like to take care of Male named Parashuram aged 60\n",
      "Enter your response YES or NONO\n",
      "would you like to take care of Female named Vaibhavi aged 72\n",
      "Enter your response YES or NONO\n",
      "would you like to be taken care by Male namedRishav aged 22\n",
      "enter YES or NOYES\n",
      "Rishav is taking care of Rohit aged 65\n",
      "would you like to be taken care by Male namedRishav aged 22\n",
      "enter YES or NOYES\n",
      "Rishav is taking care of Akshit aged 75\n",
      "would you like to be taken care by Male namedRishav aged 22\n",
      "enter YES or NOYES\n",
      "Rishav is taking care of Akash aged 69\n",
      "would you like to be taken care by Male namedRishav aged 22\n",
      "enter YES or NOYES\n",
      "Rishav is taking care of Sumita aged 77\n",
      "would you like to take care of Male named Rohit aged 65\n",
      "Enter your response YES or NONO\n",
      "would you like to take care of Male named Akshit aged 75\n",
      "Enter your response YES or NONO\n",
      "would you like to take care of Male named Akash aged 69\n",
      "Enter your response YES or NONO\n",
      "would you like to take care of Female named Sumita aged 77\n",
      "Enter your response YES or NONO\n",
      "would you like to take care of Male named Parashuram aged 60\n",
      "Enter your response YES or NOYES\n",
      "would you like to take care of Female named Vaibhavi aged 72\n",
      "Enter your response YES or NOYES\n",
      "would you like to be taken care by Female namedSusmita aged 25\n",
      "enter YES or NOYES\n",
      "Susmita is taking care of Parashuram aged 60\n",
      "would you like to be taken care by Female namedSusmita aged 25\n",
      "enter YES or NOYES\n",
      "Susmita is taking care of Vaibhavi aged 72\n"
     ]
    }
   ],
   "source": [
    "A = Old('Rohit',65,'Male')\n",
    "B = Old('Akshit',75,'Male')\n",
    "C = Old('Akash',69,'Male')\n",
    "D = Old('Sumita',77,'Female')\n",
    "E = Old('Parashuram',60,'Male')\n",
    "F = Old('Vaibhavi',72,'Female')\n",
    "Y = Young('Rishav',22,'Male')\n",
    "Z = Young('Susmita',25,'Female')\n",
    "the_log = {}\n",
    "for young in Young.young_list:\n",
    "    if young.status:\n",
    "        young.select(Old.old_list)\n",
    "        for old in young.care_list_chosen:\n",
    "            if (old.accept(young)):\n",
    "                final = young.add_old(old)\n",
    "                if final:\n",
    "                    print(\"{} is taking care of {} aged {}\".format(young.name,old.name,old.age))\n",
    "                    the_log.setdefault(old.name,young.name)\n",
    "                else:\n",
    "                    print(\"{} can't take more old people, {} has reached the limit\".format(young.name,young.name))\n",
    "                    young.set_status = False\n",
    "                    old.set_status = True"
   ]
  },
  {
   "cell_type": "code",
   "execution_count": 95,
   "metadata": {},
   "outputs": [
    {
     "name": "stdout",
     "output_type": "stream",
     "text": [
      "{'Rohit': 'Rishav', 'Akshit': 'Rishav', 'Akash': 'Rishav', 'Sumita': 'Rishav', 'Parashuram': 'Susmita', 'Vaibhavi': 'Susmita'}\n"
     ]
    }
   ],
   "source": [
    "print(the_log)"
   ]
  },
  {
   "cell_type": "code",
   "execution_count": 96,
   "metadata": {},
   "outputs": [
    {
     "data": {
      "text/plain": [
       "'Rishav'"
      ]
     },
     "execution_count": 96,
     "metadata": {},
     "output_type": "execute_result"
    }
   ],
   "source": [
    "A.getting_cared_by()"
   ]
  },
  {
   "cell_type": "code",
   "execution_count": 97,
   "metadata": {},
   "outputs": [],
   "source": [
    "D.set_rating('4star')"
   ]
  },
  {
   "cell_type": "code",
   "execution_count": 98,
   "metadata": {},
   "outputs": [
    {
     "name": "stdout",
     "output_type": "stream",
     "text": [
      "4star\n"
     ]
    }
   ],
   "source": [
    "print(D.get_rating())"
   ]
  },
  {
   "cell_type": "code",
   "execution_count": 99,
   "metadata": {},
   "outputs": [
    {
     "name": "stdout",
     "output_type": "stream",
     "text": [
      "Rohit\n",
      "Akshit\n",
      "Akash\n",
      "Sumita\n"
     ]
    }
   ],
   "source": [
    "Y.get_care_list()"
   ]
  },
  {
   "cell_type": "code",
   "execution_count": 100,
   "metadata": {},
   "outputs": [
    {
     "data": {
      "text/plain": [
       "4"
      ]
     },
     "execution_count": 100,
     "metadata": {},
     "output_type": "execute_result"
    }
   ],
   "source": [
    "Y.number()"
   ]
  },
  {
   "cell_type": "code",
   "execution_count": 101,
   "metadata": {},
   "outputs": [],
   "source": [
    "A.set_funds(10000)\n",
    "B.set_funds(20000)\n",
    "C.set_funds(30000)\n",
    "D.set_funds(40000)"
   ]
  },
  {
   "cell_type": "code",
   "execution_count": 102,
   "metadata": {},
   "outputs": [
    {
     "name": "stdout",
     "output_type": "stream",
     "text": [
      "10000\n",
      "20000\n",
      "30000\n",
      "40000\n"
     ]
    }
   ],
   "source": [
    "print(A.get_funds())\n",
    "print(B.get_funds())\n",
    "print(C.get_funds())\n",
    "print(D.get_funds())"
   ]
  },
  {
   "cell_type": "code",
   "execution_count": 103,
   "metadata": {},
   "outputs": [
    {
     "name": "stdout",
     "output_type": "stream",
     "text": [
      "100000\n"
     ]
    }
   ],
   "source": [
    "print(Y.income())"
   ]
  },
  {
   "cell_type": "code",
   "execution_count": 104,
   "metadata": {},
   "outputs": [],
   "source": [
    "Y.set_review('very gentle, carring and responsible. I enjoyed my time with him. ~akshit ')"
   ]
  },
  {
   "cell_type": "code",
   "execution_count": 105,
   "metadata": {},
   "outputs": [
    {
     "data": {
      "text/plain": [
       "'very gentle, carring and responsible. I enjoyed my time with him. ~akshit '"
      ]
     },
     "execution_count": 105,
     "metadata": {},
     "output_type": "execute_result"
    }
   ],
   "source": [
    "Y.get_review()"
   ]
  }
 ],
 "metadata": {
  "kernelspec": {
   "display_name": "Python 3",
   "language": "python",
   "name": "python3"
  },
  "language_info": {
   "codemirror_mode": {
    "name": "ipython",
    "version": 3
   },
   "file_extension": ".py",
   "mimetype": "text/x-python",
   "name": "python",
   "nbconvert_exporter": "python",
   "pygments_lexer": "ipython3",
   "version": "3.7.4"
  }
 },
 "nbformat": 4,
 "nbformat_minor": 4
}
