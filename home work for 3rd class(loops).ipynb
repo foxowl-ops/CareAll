{
 "cells": [
  {
   "cell_type": "markdown",
   "metadata": {},
   "source": [
    "# #Finding maximum and second maximum value"
   ]
  },
  {
   "cell_type": "code",
   "execution_count": 5,
   "metadata": {},
   "outputs": [
    {
     "name": "stdout",
     "output_type": "stream",
     "text": [
      "maximum value is  150\n",
      "second maximum value is  105\n"
     ]
    }
   ],
   "source": [
    "nums = [100,45,22,34,105,150]\n",
    "max = 0\n",
    "sec_max = 0\n",
    "for num in nums:\n",
    "    if num > max and num > sec_max:\n",
    "        sec_max = max\n",
    "        max = num\n",
    "    elif num < max and num > sec_max:\n",
    "        sec_max = num\n",
    "        \n",
    "print(\"maximum value is \" ,max)\n",
    "print(\"second maximum value is \", sec_max)"
   ]
  },
  {
   "cell_type": "markdown",
   "metadata": {},
   "source": [
    "# #Finding the tables of 1-5"
   ]
  },
  {
   "cell_type": "code",
   "execution_count": 9,
   "metadata": {},
   "outputs": [
    {
     "name": "stdout",
     "output_type": "stream",
     "text": [
      "1\t \t2\t \t3\t \t4\t \t5\t \t\n",
      "2\t \t4\t \t6\t \t8\t \t10\t \t\n",
      "3\t \t6\t \t9\t \t12\t \t15\t \t\n",
      "4\t \t8\t \t12\t \t16\t \t20\t \t\n",
      "5\t \t10\t \t15\t \t20\t \t25\t \t\n",
      "6\t \t12\t \t18\t \t24\t \t30\t \t\n",
      "7\t \t14\t \t21\t \t28\t \t35\t \t\n",
      "8\t \t16\t \t24\t \t32\t \t40\t \t\n",
      "9\t \t18\t \t27\t \t36\t \t45\t \t\n",
      "10\t \t20\t \t30\t \t40\t \t50\t \t\n"
     ]
    }
   ],
   "source": [
    "for no in range(1,11):\n",
    "    for i in range(1,6):\n",
    "        table = i * no\n",
    "        print(table, end= \"\\t \\t\")\n",
    "    print(end = \"\\n\")        "
   ]
  },
  {
   "cell_type": "code",
   "execution_count": null,
   "metadata": {},
   "outputs": [],
   "source": []
  }
 ],
 "metadata": {
  "kernelspec": {
   "display_name": "Python 3",
   "language": "python",
   "name": "python3"
  },
  "language_info": {
   "codemirror_mode": {
    "name": "ipython",
    "version": 3
   },
   "file_extension": ".py",
   "mimetype": "text/x-python",
   "name": "python",
   "nbconvert_exporter": "python",
   "pygments_lexer": "ipython3",
   "version": "3.7.4"
  }
 },
 "nbformat": 4,
 "nbformat_minor": 4
}
