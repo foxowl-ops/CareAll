{
 "cells": [
  {
   "cell_type": "markdown",
   "metadata": {},
   "source": [
    "# #Finding maximum and second maximum value"
   ]
  },
  {
   "cell_type": "code",
   "execution_count": 5,
   "metadata": {},
   "outputs": [
    {
     "name": "stdout",
     "output_type": "stream",
     "text": [
      "maximum value is  150\n",
      "second maximum value is  105\n"
     ]
    }
   ],
   "source": [
    "nums = [100,45,22,34,105,150]\n",
    "max = 0\n",
    "sec_max = 0\n",
    "for num in nums:\n",
    "    if num > max and num > sec_max:\n",
    "        sec_max = max\n",
    "        max = num\n",
    "    elif num < max and num > sec_max:\n",
    "        sec_max = num\n",
    "        \n",
    "print(\"maximum value is \" ,max)\n",
    "print(\"second maximum value is \", sec_max)"
   ]
  },
  {
   "cell_type": "markdown",
   "metadata": {},
   "source": [
    "# #Finding the tables of 1-5"
   ]
  },
  {
   "cell_type": "code",
   "execution_count": 8,
   "metadata": {},
   "outputs": [
    {
     "name": "stdout",
     "output_type": "stream",
     "text": [
      "1    2    3    4    5    \n",
      "2    4    6    8    10    \n",
      "3    6    9    12    15    \n",
      "4    8    12    16    20    \n",
      "5    10    15    20    25    \n",
      "6    12    18    24    30    \n",
      "7    14    21    28    35    \n",
      "8    16    24    32    40    \n",
      "9    18    27    36    45    \n",
      "10    20    30    40    50    \n"
     ]
    }
   ],
   "source": [
    "for no in range(1,11):\n",
    "    for i in range(1,6):\n",
    "        table = i * no\n",
    "        print(table, end= \"    \")\n",
    "    print(end = \"\\n\")        "
   ]
  },
  {
   "cell_type": "code",
   "execution_count": null,
   "metadata": {},
   "outputs": [],
   "source": []
  }
 ],
 "metadata": {
  "kernelspec": {
   "display_name": "Python 3",
   "language": "python",
   "name": "python3"
  },
  "language_info": {
   "codemirror_mode": {
    "name": "ipython",
    "version": 3
   },
   "file_extension": ".py",
   "mimetype": "text/x-python",
   "name": "python",
   "nbconvert_exporter": "python",
   "pygments_lexer": "ipython3",
   "version": "3.7.4"
  }
 },
 "nbformat": 4,
 "nbformat_minor": 4
}
