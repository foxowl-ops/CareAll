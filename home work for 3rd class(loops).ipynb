{
 "cells": [
  {
   "cell_type": "markdown",
   "metadata": {},
   "source": [
    "# #Finding maximum and second maximum value"
   ]
  },
  {
   "cell_type": "code",
   "execution_count": 5,
   "metadata": {},
   "outputs": [
    {
     "name": "stdout",
     "output_type": "stream",
     "text": [
      "maximum value is  150\n",
      "second maximum value is  105\n"
     ]
    }
   ],
   "source": [
    "nums = [100,45,22,34,105,150]\n",
    "max = 0\n",
    "sec_max = 0\n",
    "for num in nums:\n",
    "    if num > max and num > sec_max:\n",
    "        sec_max = max\n",
    "        max = num\n",
    "    elif num < max and num > sec_max:\n",
    "        sec_max = num\n",
    "        \n",
    "print(\"maximum value is \" ,max)\n",
    "print(\"second maximum value is \", sec_max)"
   ]
  },
  {
   "cell_type": "markdown",
   "metadata": {},
   "source": [
    "# #Finding the tables of 1-5"
   ]
  },
  {
   "cell_type": "code",
   "execution_count": null,
   "metadata": {},
   "outputs": [],
   "source": [
    "list = [1,2,3,4,5]\n",
    "for no in range(1,11):\n",
    "    for i in list:\n",
    "        table = i * no\n",
    "    print(table, end= \"    \")\n",
    "print(end = \"\\n\")        "
   ]
  }
 ],
 "metadata": {
  "kernelspec": {
   "display_name": "Python 3",
   "language": "python",
   "name": "python3"
  },
  "language_info": {
   "codemirror_mode": {
    "name": "ipython",
    "version": 3
   },
   "file_extension": ".py",
   "mimetype": "text/x-python",
   "name": "python",
   "nbconvert_exporter": "python",
   "pygments_lexer": "ipython3",
   "version": "3.7.4"
  }
 },
 "nbformat": 4,
 "nbformat_minor": 4
}
